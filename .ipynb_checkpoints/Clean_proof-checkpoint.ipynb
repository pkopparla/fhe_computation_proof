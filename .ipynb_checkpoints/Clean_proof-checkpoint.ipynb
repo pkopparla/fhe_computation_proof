{
 "cells": [
  {
   "cell_type": "markdown",
   "id": "83fd60c3",
   "metadata": {},
   "source": [
    "We want to show the proof of computation of standard deviation of a dataset containing 3 values:\n",
    "\n",
    "$d = [3,4,5]$\n",
    "\n",
    "The calculation is:\n",
    "\n",
    "$std = \\sqrt{\\frac{sum(data-mean)^2}{len(data)}}$\n",
    "\n",
    "and the answer is 0.8165\n",
    "\n",
    "To do so, we first write a \"quadratic arithmetic program\" by breaking down the calculation into individual multiplications:\n",
    "\n",
    "$ \\bar{d} * n = d_1 + d_2 + d_3 $ (mean calculation)\n",
    "\n",
    "$(d_1-\\bar{d})*(d_1-\\bar{d}) = d'_1$ (squared anomaly calculation for the 3 data points)\n",
    "\n",
    "$(d_2-\\bar{d})*(d_2-\\bar{d}) = d'_2$\n",
    "\n",
    "$(d_3-\\bar{d})*(d_3-\\bar{d}) = d'_3$\n",
    "\n",
    "$\\bar{d'} * n = d'_1 + d'_2 + d'_3$ (calculation of the mean squared anomaly)\n",
    "\n",
    "$\\sigma*\\sigma = \\bar{d'}$ (standard deviation is the square root of mean anomaly)\n",
    "                      \n",
    "Writing out the constituent variable polynomials for left & right operands and the output\n",
    "\n",
    "$L(x) = \\bar{d}*l_{\\bar{d}}(x) + d_1*l_{d_1}(x) + d_2*l_{d_2}(x) + d_3*l_{d_3}(x) + \\bar{d'}*l_{\\bar{d'}}(x) +\\sigma*l_{\\sigma}(x)$\n",
    "\n",
    "$R(x) = n*r_n(x) + \\bar{d}*l_{\\bar{d}}(x) + d_1*l_{d_1}(x) + d_2*l_{d_2}(x) + d_3*l_{d_3}(x) + \\sigma*r_{\\sigma}(x)$\n",
    "\n",
    "$O(x) =  d_1*o_{d_1}(x) + d_2*o_{d_2}(x) + d_3*o_{d_3}(x)+ d'_1 * o_{d'_1}(x) + d'_2 * o_{d'_2}(x) + d'_2 * o_{d'_2}(x)$\n",
    "\n",
    "The proof of knowledge is knowing the polynomial, P: $P(x) = L(x)*R(x) - O(x)$\n",
    "\n",
    "A common reference string shared with the verifier is the polynomial, T: $T(x) = (x-1)(x-2)(x-3)(x-4)(x-5)(x-6)$\n",
    "\n",
    "The prover can prove they know P(x) through showing the existence of another polynomial H that is defined as $H(x) = \\frac{P(x)}{T(x)}$. Once you know how to construct these polynomials you can start encrypting values and build a zksnark around them."
   ]
  },
  {
   "cell_type": "code",
   "execution_count": 1,
   "id": "0aa42d8a",
   "metadata": {},
   "outputs": [
    {
     "name": "stdout",
     "output_type": "stream",
     "text": [
      "The standard deviation is 0.8165\n"
     ]
    }
   ],
   "source": [
    "import numpy as np\n",
    "d1 = 3\n",
    "d2 = 4\n",
    "d3 = 5\n",
    "n = 3\n",
    "d_bar = (d1+d2+d3)/n\n",
    "d1_p = (d1-d_bar)**2\n",
    "d2_p = (d2-d_bar)**2\n",
    "d3_p = (d3-d_bar)**2\n",
    "d_anom = (d1_p + d2_p + d3_p)/n\n",
    "sigma = np.sqrt(d_anom)\n",
    "print(f\"The standard deviation is {sigma:.4f}\")"
   ]
  },
  {
   "cell_type": "code",
   "execution_count": 5,
   "id": "18d40222",
   "metadata": {},
   "outputs": [],
   "source": [
    "l_d_bar = np.polyfit([1,2,3,4,5,6],[1,-1,-1,-1,0,0],5)\n",
    "l_d1 = np.polyfit([1,2,3,4,5,6],[0,1,0,0,0,0],5)\n",
    "l_d2 = np.polyfit([1,2,3,4,5,6],[0,0,1,0,0,0],5)\n",
    "l_d3 = np.polyfit([1,2,3,4,5,6],[0,0,0,1,0,0],5)\n",
    "l_d_anom = np.polyfit([1,2,3,4,5,6],[0,0,0,0,1,0],5)\n",
    "l_sigma = np.polyfit([1,2,3,4,5,6],[0,0,0,0,0,1],5)\n",
    "\n",
    "r_n = np.polyfit([1,2,3,4,5,6],[1,0,0,0,1,0],5)\n",
    "r_d_bar = np.polyfit([1,2,3,4,5,6],[0,-1,-1,-1,0,0],5)\n",
    "r_d1 = np.polyfit([1,2,3,4,5,6],[0,1,0,0,0,0],5)\n",
    "r_d2 = np.polyfit([1,2,3,4,5,6],[0,0,1,0,0,0],5)\n",
    "r_d3 = np.polyfit([1,2,3,4,5,6],[0,0,0,1,0,0],5)\n",
    "r_sigma = np.polyfit([1,2,3,4,5,6],[0,0,0,0,0,1],5)\n",
    "\n",
    "o_d1 = np.polyfit([1,2,3,4,5,6],[1,0,0,0,0,0],5)\n",
    "o_d2 = np.polyfit([1,2,3,4,5,6],[1,0,0,0,0,0],5)\n",
    "o_d3 = np.polyfit([1,2,3,4,5,6],[1,0,0,0,0,0],5)\n",
    "o_d1_p = np.polyfit([1,2,3,4,5,6],[0,1,0,0,1,0],5)\n",
    "o_d2_p = np.polyfit([1,2,3,4,5,6],[0,0,1,0,1,0],5)\n",
    "o_d3_p = np.polyfit([1,2,3,4,5,6],[0,0,0,1,1,0],5)\n",
    "o_d_anom = np.polyfit([1,2,3,4,5,6],[0,0,0,0,0,1],5)"
   ]
  },
  {
   "cell_type": "code",
   "execution_count": 6,
   "id": "75be95b8",
   "metadata": {},
   "outputs": [],
   "source": [
    "L = d_bar*l_d_bar+d1*l_d1+d2*l_d2+d3*l_d3+d_anom*l_d_anom+sigma*l_sigma\n",
    "R = n*r_n+d_bar*r_d_bar+d1*r_d1+d2*r_d2+d3*r_d3+sigma*r_sigma\n",
    "O = d1*o_d1+d2*o_d2+d3*o_d3+d1_p*o_d1_p+d2_p*o_d2_p+d3_p*o_d3_p+d_anom*o_d_anom\n",
    "T = np.poly([1,2,3,4,5,6])\n",
    "P = np.polysub(np.polymul(L,R),O)"
   ]
  },
  {
   "cell_type": "code",
   "execution_count": 7,
   "id": "934e8167",
   "metadata": {},
   "outputs": [
    {
     "name": "stdout",
     "output_type": "stream",
     "text": [
      "          4           3          2\n",
      "0.001283 x - 0.03445 x + 0.2921 x - 1.002 x + 1.254 [ True]\n"
     ]
    }
   ],
   "source": [
    "H,rem = np.polydiv(P,T)\n",
    "print(np.poly1d(H),np.isclose(rem,0))"
   ]
  },
  {
   "cell_type": "markdown",
   "id": "762b8798",
   "metadata": {},
   "source": [
    "## Because the remainder is 0, the proof is correct"
   ]
  },
  {
   "cell_type": "code",
   "execution_count": 8,
   "id": "a3845274",
   "metadata": {},
   "outputs": [
    {
     "data": {
      "text/plain": [
       "(array([-1.26403063e-02,  3.84049038e-01, -4.01887048e+00,  1.86496245e+01,\n",
       "        -3.81856661e+01,  2.71835034e+01]),\n",
       " array([ -0.1015292 ,   1.77293793, -11.96331492,  39.09406891,\n",
       "        -60.98566614,  35.18350342]),\n",
       " array([ 1.000e+00, -2.100e+01,  1.750e+02, -7.350e+02,  1.624e+03,\n",
       "        -1.764e+03,  7.200e+02]),\n",
       " array([ 0.00128336, -0.03445211,  0.29206552, -1.00158583,  1.25427438]),\n",
       " array([ 1.28336012e-03, -6.14026682e-02,  1.24014776e+00, -1.41073499e+01,\n",
       "         1.00805517e+02, -4.74499504e+02,  1.49167553e+03, -3.08847615e+03,\n",
       "         4.01402617e+03, -2.93368180e+03,  9.03077552e+02]),\n",
       " array([-5.27777778e-02,  1.04166667e+00, -8.31944444e+00,  3.36250000e+01,\n",
       "        -6.76277778e+01,  5.33333333e+01]))"
      ]
     },
     "execution_count": 8,
     "metadata": {},
     "output_type": "execute_result"
    }
   ],
   "source": [
    "L, R, T, H, P, O"
   ]
  },
  {
   "cell_type": "markdown",
   "id": "788853da",
   "metadata": {},
   "source": [
    "## However, all the coefficients of the polynomials are non-integer, it cannot be encrypted with a function such as $E(v) = g^v mod(n) $ which works on integers only. This is the next step in constructing a zksnark, but how do you do it?"
   ]
  },
  {
   "cell_type": "code",
   "execution_count": 9,
   "id": "7ced1dd4",
   "metadata": {},
   "outputs": [],
   "source": [
    "np.savetxt('L.csv',L,delimiter=',')\n",
    "np.savetxt('R.csv',R,delimiter=',')\n",
    "np.savetxt('O.csv',O,delimiter=',')\n",
    "np.savetxt('P.csv',P,delimiter=',')\n",
    "np.savetxt('T.csv',T,delimiter=',')\n",
    "np.savetxt('H.csv',H,delimiter=',')"
   ]
  },
  {
   "cell_type": "code",
   "execution_count": 17,
   "id": "1fbb7483",
   "metadata": {},
   "outputs": [
    {
     "data": {
      "text/plain": [
       "11799070477.279081"
      ]
     },
     "execution_count": 17,
     "metadata": {},
     "output_type": "execute_result"
    }
   ],
   "source": [
    "np.polyval(P,25)"
   ]
  },
  {
   "cell_type": "code",
   "execution_count": null,
   "id": "7dcc9410",
   "metadata": {},
   "outputs": [],
   "source": []
  }
 ],
 "metadata": {
  "kernelspec": {
   "display_name": "Python 3 (ipykernel)",
   "language": "python",
   "name": "python3"
  },
  "language_info": {
   "codemirror_mode": {
    "name": "ipython",
    "version": 3
   },
   "file_extension": ".py",
   "mimetype": "text/x-python",
   "name": "python",
   "nbconvert_exporter": "python",
   "pygments_lexer": "ipython3",
   "version": "3.10.2"
  },
  "vscode": {
   "interpreter": {
    "hash": "0d18131c186ab6dc70b03e429512418bbcc688ff3fe7931f01a2b5a669163496"
   }
  }
 },
 "nbformat": 4,
 "nbformat_minor": 5
}
